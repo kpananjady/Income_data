{
 "cells": [
  {
   "cell_type": "markdown",
   "metadata": {},
   "source": [
    "# What this file does"
   ]
  },
  {
   "cell_type": "markdown",
   "metadata": {},
   "source": [
    "I didn't really end up using this — I created a map of municipalities and income inequality that I used to lay under my buyouts map. It was a very busy map, and geographically representing the data was probably not the best way forward. I used American Community Survey data and the GINI index (https://www.nj.com/news/2017/02/how_every_town_in_nj_scores_on_income_inequality.html#:~:text=According%20to%20the%20latest%20numbers,of%200.619%2C%20the%20Census%20shows) and did some joins with a municipal codes database (https://www.state.nj.us/treasury/taxation/pdf/lpt/cntycode.pdf). This notebook just joins different datasets and makes sure municipal codes are attached to relevant values for better joins in QJIS."
   ]
  },
  {
   "cell_type": "markdown",
   "metadata": {},
   "source": [
    "# Making it easier to map this data"
   ]
  },
  {
   "cell_type": "code",
   "execution_count": null,
   "metadata": {},
   "outputs": [],
   "source": [
    "#import libraries "
   ]
  },
  {
   "cell_type": "code",
   "execution_count": 1,
   "metadata": {},
   "outputs": [],
   "source": [
    "import pandas as pd"
   ]
  },
  {
   "cell_type": "code",
   "execution_count": null,
   "metadata": {},
   "outputs": [],
   "source": [
    "#read in income data, ACS 2011-2015, data from census bureau"
   ]
  },
  {
   "cell_type": "code",
   "execution_count": 2,
   "metadata": {},
   "outputs": [],
   "source": [
    "df = pd.read_csv('income_ACS11-15_mun.csv')"
   ]
  },
  {
   "cell_type": "code",
   "execution_count": null,
   "metadata": {},
   "outputs": [],
   "source": [
    "#for joins - convert to upper"
   ]
  },
  {
   "cell_type": "code",
   "execution_count": 32,
   "metadata": {},
   "outputs": [],
   "source": [
    "df['county2'] = df.county.apply(lambda x: to_upper(x))"
   ]
  },
  {
   "cell_type": "code",
   "execution_count": 28,
   "metadata": {},
   "outputs": [],
   "source": [
    "def to_upper(name):\n",
    "    try:\n",
    "        return name.upper()\n",
    "    except:\n",
    "        print(name)\n",
    "        pass"
   ]
  },
  {
   "cell_type": "code",
   "execution_count": null,
   "metadata": {},
   "outputs": [],
   "source": [
    "#checking for format of names"
   ]
  },
  {
   "cell_type": "code",
   "execution_count": 44,
   "metadata": {},
   "outputs": [
    {
     "data": {
      "text/plain": [
       "False    513\n",
       "True      49\n",
       "Name: name, dtype: int64"
      ]
     },
     "execution_count": 44,
     "metadata": {},
     "output_type": "execute_result"
    }
   ],
   "source": [
    "df['name'].apply(lambda x: check_t(x)).value_counts()"
   ]
  },
  {
   "cell_type": "code",
   "execution_count": 38,
   "metadata": {},
   "outputs": [],
   "source": [
    "def check_t(x):\n",
    "    return 'Township' in x"
   ]
  },
  {
   "cell_type": "code",
   "execution_count": 46,
   "metadata": {},
   "outputs": [],
   "source": [
    "def check_b(x):  \n",
    "    return 'Borough' in x"
   ]
  },
  {
   "cell_type": "code",
   "execution_count": 48,
   "metadata": {},
   "outputs": [],
   "source": [
    "def check_c(x):  \n",
    "    return 'City' in x"
   ]
  },
  {
   "cell_type": "code",
   "execution_count": 47,
   "metadata": {},
   "outputs": [
    {
     "data": {
      "text/plain": [
       "False    558\n",
       "True       4\n",
       "Name: name, dtype: int64"
      ]
     },
     "execution_count": 47,
     "metadata": {},
     "output_type": "execute_result"
    }
   ],
   "source": [
    "df['name'].apply(lambda x: check_b(x)).value_counts()"
   ]
  },
  {
   "cell_type": "code",
   "execution_count": 49,
   "metadata": {},
   "outputs": [
    {
     "data": {
      "text/plain": [
       "False    549\n",
       "True      13\n",
       "Name: name, dtype: int64"
      ]
     },
     "execution_count": 49,
     "metadata": {},
     "output_type": "execute_result"
    }
   ],
   "source": [
    "df['name'].apply(lambda x: check_c(x)).value_counts()"
   ]
  },
  {
   "cell_type": "code",
   "execution_count": null,
   "metadata": {},
   "outputs": [],
   "source": [
    "#the issue is that lots of these have these suffixes, which I don't want for the purposes of the join later. Best to find municial codes"
   ]
  },
  {
   "cell_type": "code",
   "execution_count": 4,
   "metadata": {},
   "outputs": [],
   "source": [
    "#GINI index by county; data from https://www.nj.com/news/2017/02/how_every_town_in_nj_scores_on_income_inequality.html#:~:text=According%20to%20the%20latest%20numbers,of%200.619%2C%20the%20Census%20shows."
   ]
  },
  {
   "cell_type": "code",
   "execution_count": 58,
   "metadata": {},
   "outputs": [],
   "source": [
    "df2 = pd.read_csv('gini_by_county.csv')"
   ]
  },
  {
   "cell_type": "code",
   "execution_count": 59,
   "metadata": {},
   "outputs": [],
   "source": [
    "df2['county_upper'] = df2.county.apply(lambda x: to_upper(x))"
   ]
  },
  {
   "cell_type": "code",
   "execution_count": 5,
   "metadata": {},
   "outputs": [],
   "source": [
    "#save the version"
   ]
  },
  {
   "cell_type": "code",
   "execution_count": 60,
   "metadata": {},
   "outputs": [],
   "source": [
    "df2.to_csv('gini_county_new.csv', index=False)"
   ]
  },
  {
   "cell_type": "code",
   "execution_count": 62,
   "metadata": {},
   "outputs": [],
   "source": [
    "df['name2'] = df.name.apply(lambda x: to_upper(x))"
   ]
  },
  {
   "cell_type": "code",
   "execution_count": 63,
   "metadata": {},
   "outputs": [
    {
     "data": {
      "text/html": [
       "<div>\n",
       "<style scoped>\n",
       "    .dataframe tbody tr th:only-of-type {\n",
       "        vertical-align: middle;\n",
       "    }\n",
       "\n",
       "    .dataframe tbody tr th {\n",
       "        vertical-align: top;\n",
       "    }\n",
       "\n",
       "    .dataframe thead th {\n",
       "        text-align: right;\n",
       "    }\n",
       "</style>\n",
       "<table border=\"1\" class=\"dataframe\">\n",
       "  <thead>\n",
       "    <tr style=\"text-align: right;\">\n",
       "      <th></th>\n",
       "      <th>name</th>\n",
       "      <th>county</th>\n",
       "      <th>median_income</th>\n",
       "      <th>county2</th>\n",
       "      <th>name2</th>\n",
       "    </tr>\n",
       "  </thead>\n",
       "  <tbody>\n",
       "    <tr>\n",
       "      <th>0</th>\n",
       "      <td>North Caldwell</td>\n",
       "      <td>Essex</td>\n",
       "      <td>200152</td>\n",
       "      <td>ESSEX</td>\n",
       "      <td>NORTH CALDWELL</td>\n",
       "    </tr>\n",
       "    <tr>\n",
       "      <th>1</th>\n",
       "      <td>Millburn</td>\n",
       "      <td>Essex</td>\n",
       "      <td>184783</td>\n",
       "      <td>ESSEX</td>\n",
       "      <td>MILLBURN</td>\n",
       "    </tr>\n",
       "    <tr>\n",
       "      <th>2</th>\n",
       "      <td>Essex Fells</td>\n",
       "      <td>Essex</td>\n",
       "      <td>172386</td>\n",
       "      <td>ESSEX</td>\n",
       "      <td>ESSEX FELLS</td>\n",
       "    </tr>\n",
       "    <tr>\n",
       "      <th>3</th>\n",
       "      <td>Harding Township</td>\n",
       "      <td>Morris</td>\n",
       "      <td>171331</td>\n",
       "      <td>MORRIS</td>\n",
       "      <td>HARDING TOWNSHIP</td>\n",
       "    </tr>\n",
       "    <tr>\n",
       "      <th>4</th>\n",
       "      <td>Glen Ridge</td>\n",
       "      <td>Essex</td>\n",
       "      <td>170433</td>\n",
       "      <td>ESSEX</td>\n",
       "      <td>GLEN RIDGE</td>\n",
       "    </tr>\n",
       "    <tr>\n",
       "      <th>...</th>\n",
       "      <td>...</td>\n",
       "      <td>...</td>\n",
       "      <td>...</td>\n",
       "      <td>...</td>\n",
       "      <td>...</td>\n",
       "    </tr>\n",
       "    <tr>\n",
       "      <th>557</th>\n",
       "      <td>Wildwood</td>\n",
       "      <td>Cape May</td>\n",
       "      <td>27067</td>\n",
       "      <td>CAPE MAY</td>\n",
       "      <td>WILDWOOD</td>\n",
       "    </tr>\n",
       "    <tr>\n",
       "      <th>558</th>\n",
       "      <td>Salem</td>\n",
       "      <td>Salem</td>\n",
       "      <td>26320</td>\n",
       "      <td>SALEM</td>\n",
       "      <td>SALEM</td>\n",
       "    </tr>\n",
       "    <tr>\n",
       "      <th>559</th>\n",
       "      <td>Atlantic City</td>\n",
       "      <td>Atlantic</td>\n",
       "      <td>25737</td>\n",
       "      <td>ATLANTIC</td>\n",
       "      <td>ATLANTIC CITY</td>\n",
       "    </tr>\n",
       "    <tr>\n",
       "      <th>560</th>\n",
       "      <td>Camden</td>\n",
       "      <td>Camden</td>\n",
       "      <td>25042</td>\n",
       "      <td>CAMDEN</td>\n",
       "      <td>CAMDEN</td>\n",
       "    </tr>\n",
       "    <tr>\n",
       "      <th>561</th>\n",
       "      <td>Walpack</td>\n",
       "      <td>Sussex</td>\n",
       "      <td>16667</td>\n",
       "      <td>SUSSEX</td>\n",
       "      <td>WALPACK</td>\n",
       "    </tr>\n",
       "  </tbody>\n",
       "</table>\n",
       "<p>562 rows × 5 columns</p>\n",
       "</div>"
      ],
      "text/plain": [
       "                 name    county  median_income   county2             name2\n",
       "0      North Caldwell     Essex         200152     ESSEX    NORTH CALDWELL\n",
       "1            Millburn     Essex         184783     ESSEX          MILLBURN\n",
       "2         Essex Fells     Essex         172386     ESSEX       ESSEX FELLS\n",
       "3    Harding Township    Morris         171331    MORRIS  HARDING TOWNSHIP\n",
       "4          Glen Ridge     Essex         170433     ESSEX        GLEN RIDGE\n",
       "..                ...       ...            ...       ...               ...\n",
       "557          Wildwood  Cape May          27067  CAPE MAY          WILDWOOD\n",
       "558             Salem     Salem          26320     SALEM             SALEM\n",
       "559     Atlantic City  Atlantic          25737  ATLANTIC     ATLANTIC CITY\n",
       "560            Camden    Camden          25042    CAMDEN            CAMDEN\n",
       "561           Walpack    Sussex          16667    SUSSEX           WALPACK\n",
       "\n",
       "[562 rows x 5 columns]"
      ]
     },
     "execution_count": 63,
     "metadata": {},
     "output_type": "execute_result"
    }
   ],
   "source": [
    "df"
   ]
  },
  {
   "cell_type": "code",
   "execution_count": null,
   "metadata": {},
   "outputs": [],
   "source": [
    "#grabbed New Jersey Municipal codes: https://www.state.nj.us/treasury/taxation/pdf/lpt/cntycode.pdf"
   ]
  },
  {
   "cell_type": "code",
   "execution_count": 67,
   "metadata": {},
   "outputs": [],
   "source": [
    "df3 = pd.read_csv('mun_codes.csv')"
   ]
  },
  {
   "cell_type": "code",
   "execution_count": 77,
   "metadata": {},
   "outputs": [
    {
     "data": {
      "text/html": [
       "<div>\n",
       "<style scoped>\n",
       "    .dataframe tbody tr th:only-of-type {\n",
       "        vertical-align: middle;\n",
       "    }\n",
       "\n",
       "    .dataframe tbody tr th {\n",
       "        vertical-align: top;\n",
       "    }\n",
       "\n",
       "    .dataframe thead th {\n",
       "        text-align: right;\n",
       "    }\n",
       "</style>\n",
       "<table border=\"1\" class=\"dataframe\">\n",
       "  <thead>\n",
       "    <tr style=\"text-align: right;\">\n",
       "      <th></th>\n",
       "      <th>CODE</th>\n",
       "      <th>MUNICIPALITY</th>\n",
       "      <th>COUNTY</th>\n",
       "    </tr>\n",
       "  </thead>\n",
       "  <tbody>\n",
       "    <tr>\n",
       "      <th>0</th>\n",
       "      <td>101</td>\n",
       "      <td>ABSECON</td>\n",
       "      <td>Atlantic County</td>\n",
       "    </tr>\n",
       "    <tr>\n",
       "      <th>1</th>\n",
       "      <td>102</td>\n",
       "      <td>ATLANTIC CITY</td>\n",
       "      <td>Atlantic County</td>\n",
       "    </tr>\n",
       "    <tr>\n",
       "      <th>2</th>\n",
       "      <td>103</td>\n",
       "      <td>BRIGANTINE</td>\n",
       "      <td>Atlantic County</td>\n",
       "    </tr>\n",
       "    <tr>\n",
       "      <th>3</th>\n",
       "      <td>104</td>\n",
       "      <td>BUENA</td>\n",
       "      <td>Atlantic County</td>\n",
       "    </tr>\n",
       "    <tr>\n",
       "      <th>4</th>\n",
       "      <td>105</td>\n",
       "      <td>BUENA VISTA</td>\n",
       "      <td>Atlantic County</td>\n",
       "    </tr>\n",
       "    <tr>\n",
       "      <th>...</th>\n",
       "      <td>...</td>\n",
       "      <td>...</td>\n",
       "      <td>...</td>\n",
       "    </tr>\n",
       "    <tr>\n",
       "      <th>560</th>\n",
       "      <td>2119</td>\n",
       "      <td>PHILLIPSBURG</td>\n",
       "      <td>Warren County</td>\n",
       "    </tr>\n",
       "    <tr>\n",
       "      <th>561</th>\n",
       "      <td>2120</td>\n",
       "      <td>POHATCONG</td>\n",
       "      <td>Warren County</td>\n",
       "    </tr>\n",
       "    <tr>\n",
       "      <th>562</th>\n",
       "      <td>2121</td>\n",
       "      <td>WASHINGTON</td>\n",
       "      <td>Warren County</td>\n",
       "    </tr>\n",
       "    <tr>\n",
       "      <th>563</th>\n",
       "      <td>2122</td>\n",
       "      <td>WASHINGTON</td>\n",
       "      <td>Warren County</td>\n",
       "    </tr>\n",
       "    <tr>\n",
       "      <th>564</th>\n",
       "      <td>2123</td>\n",
       "      <td>WHITE</td>\n",
       "      <td>Warren County</td>\n",
       "    </tr>\n",
       "  </tbody>\n",
       "</table>\n",
       "<p>565 rows × 3 columns</p>\n",
       "</div>"
      ],
      "text/plain": [
       "     CODE   MUNICIPALITY           COUNTY\n",
       "0     101        ABSECON  Atlantic County\n",
       "1     102  ATLANTIC CITY  Atlantic County\n",
       "2     103     BRIGANTINE  Atlantic County\n",
       "3     104          BUENA  Atlantic County\n",
       "4     105    BUENA VISTA  Atlantic County\n",
       "..    ...            ...              ...\n",
       "560  2119   PHILLIPSBURG    Warren County\n",
       "561  2120      POHATCONG    Warren County\n",
       "562  2121     WASHINGTON    Warren County\n",
       "563  2122     WASHINGTON    Warren County\n",
       "564  2123          WHITE    Warren County\n",
       "\n",
       "[565 rows x 3 columns]"
      ]
     },
     "execution_count": 77,
     "metadata": {},
     "output_type": "execute_result"
    }
   ],
   "source": [
    "df3"
   ]
  },
  {
   "cell_type": "markdown",
   "metadata": {},
   "source": [
    "### df"
   ]
  },
  {
   "cell_type": "code",
   "execution_count": 6,
   "metadata": {},
   "outputs": [],
   "source": [
    "#saving it"
   ]
  },
  {
   "cell_type": "code",
   "execution_count": 80,
   "metadata": {},
   "outputs": [],
   "source": [
    "df.set_index('name2').join(df3.set_index('MUNICIPALITY')).to_csv('income_with_codes.csv')\n"
   ]
  }
 ],
 "metadata": {
  "kernelspec": {
   "display_name": "Python 3",
   "language": "python",
   "name": "python3"
  },
  "language_info": {
   "codemirror_mode": {
    "name": "ipython",
    "version": 3
   },
   "file_extension": ".py",
   "mimetype": "text/x-python",
   "name": "python",
   "nbconvert_exporter": "python",
   "pygments_lexer": "ipython3",
   "version": "3.7.5"
  }
 },
 "nbformat": 4,
 "nbformat_minor": 2
}
